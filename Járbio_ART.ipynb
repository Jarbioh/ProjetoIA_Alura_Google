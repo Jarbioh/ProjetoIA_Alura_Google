{
  "nbformat": 4,
  "nbformat_minor": 0,
  "metadata": {
    "colab": {
      "provenance": [],
      "gpuType": "T4",
      "mount_file_id": "18dJ9uDeh0ZRe5mMuQrrbxOWJZlshHs7G",
      "authorship_tag": "ABX9TyO1iRV2FDnLhZX7aJB89L11",
      "include_colab_link": true
    },
    "kernelspec": {
      "name": "python3",
      "display_name": "Python 3"
    },
    "language_info": {
      "name": "python"
    },
    "accelerator": "GPU"
  },
  "cells": [
    {
      "cell_type": "markdown",
      "metadata": {
        "id": "view-in-github",
        "colab_type": "text"
      },
      "source": [
        "<a href=\"https://colab.research.google.com/github/Jarbioh/ProjetoIA_Alura_Google/blob/main/J%C3%A1rbio_ART.ipynb\" target=\"_parent\"><img src=\"https://colab.research.google.com/assets/colab-badge.svg\" alt=\"Open In Colab\"/></a>"
      ]
    },
    {
      "cell_type": "markdown",
      "source": [
        "Passo 1: Preparando o Palco 🎨\n"
      ],
      "metadata": {
        "id": "KuxoC4qa19ue"
      }
    },
    {
      "cell_type": "code",
      "execution_count": null,
      "metadata": {
        "id": "oWUqJY040-Zs"
      },
      "outputs": [],
      "source": [
        "!pip install -q -U google-generativeai\n",
        "!pip install Pillow\n",
        "!pip install transformers\n",
        "!pip install diffusers\n",
        "!pip install colorthief\n",
        "!wget https://upload.wikimedia.org/wikipedia/commons/8/8b/Parental_Advisory_-_Original.svg -O parental_advisory.svg"
      ]
    },
    {
      "cell_type": "code",
      "source": [
        "import google.generativeai as genai\n",
        "from google.colab import userdata\n",
        "api_key = userdata.get('CHAVE_SECRETA')\n",
        "genai.configure(api_key=api_key)"
      ],
      "metadata": {
        "id": "TP-5QtAtLljL"
      },
      "execution_count": 10,
      "outputs": []
    },
    {
      "cell_type": "markdown",
      "source": [
        "Passo 2: Apresentando o Járbio ART! 🧙‍♂️\n"
      ],
      "metadata": {
        "id": "XC35ykcB2EhH"
      }
    },
    {
      "cell_type": "code",
      "source": [
        "print(\"\"\"\n",
        "   ___      __   ____       _     _            __\n",
        "  / _ \\___ / /__/ / /____  (_)___(_)___  ____  / /__\n",
        " / , _/ -_) / (_- / __/ _ \\/ / __/ / _ \\/ __ \\/ / /\n",
        "/_/ \\__/\\__/_/___/\\__/_//_/_/\\__/_/\\___/_/ /_/ /_/\n",
        "\"\"\")\n",
        "print(\"✨ Olá! Sou o Járbio ART, seu assistente de design para capas musicais insanas! ✨\")"
      ],
      "metadata": {
        "colab": {
          "base_uri": "https://localhost:8080/"
        },
        "id": "nKlRsTGF2H2m",
        "outputId": "7ef35a95-217a-4d43-9f75-308be452f918"
      },
      "execution_count": 11,
      "outputs": [
        {
          "output_type": "stream",
          "name": "stdout",
          "text": [
            "\n",
            "   ___      __   ____       _     _            __\n",
            "  / _ \\___ / /__/ / /____  (_)___(_)___  ____  / /__\n",
            " / , _/ -_) / (_- / __/ _ \\/ / __/ / _ \\/ __ \\/ / /\n",
            "/_/ \\__/\\__/_/___/\\__/_//_/_/\\__/_/\\___/_/ /_/ /_/\n",
            "\n",
            "✨ Olá! Sou o Járbio ART, seu assistente de design para capas musicais insanas! ✨\n"
          ]
        }
      ]
    },
    {
      "cell_type": "markdown",
      "source": [
        "Passo 3: Criando a Obra-Prima 🎶\n"
      ],
      "metadata": {
        "id": "YWmdzND62LMD"
      }
    },
    {
      "cell_type": "code",
      "source": [
        "from PIL import Image\n",
        "from transformers import pipeline\n",
        "from diffusers import StableDiffusionPipeline\n",
        "import torch\n",
        "import os\n",
        "import io\n",
        "from colorthief import ColorThief\n",
        "import cv2\n",
        "import numpy as np\n",
        "\n",
        "# Função para gerar a imagem inicial\n",
        "def gerar_imagem(prompt, modelo=\"CompVis/stable-diffusion-v1-4\"):\n",
        "    \"\"\"Cria uma imagem a partir do seu prompt usando a IA. 🖼️\"\"\"\n",
        "    pipe = StableDiffusionPipeline.from_pretrained(modelo, torch_dtype=torch.float16)\n",
        "    pipe = pipe.to(\"cuda\")\n",
        "    image = pipe(prompt, height=3000, width=3000).images[0]\n",
        "    return image\n",
        "\n",
        "# Função para salvar a capa em diferentes formatos\n",
        "def salvar_capa(imagem, nome_arquivo=\"capa_musical\"):\n",
        "    \"\"\"Salva sua obra-prima em vários formatos. 💾\"\"\"\n",
        "    if not os.path.exists(\"capas\"):\n",
        "        os.makedirs(\"capas\")\n",
        "\n",
        "    formatos = {\n",
        "        \"JPEG\": \".jpg\",\n",
        "        \"PNG\": \".png\",\n",
        "        \"TIFF\": \".tiff\",\n",
        "    }\n",
        "\n",
        "    for nome, extensao in formatos.items():\n",
        "        imagem.info['dpi'] = (72, 72)\n",
        "        if imagem.mode != \"RGB\":\n",
        "            imagem = imagem.convert(\"RGB\")\n",
        "        qualidade = 95\n",
        "        tamanho_maximo = 35 * 1024 * 1024  # 35 MB em bytes\n",
        "\n",
        "        while True:\n",
        "            buffer = io.BytesIO()\n",
        "            imagem.save(buffer, format=nome, quality=qualidade)\n",
        "            tamanho_arquivo = buffer.tell()\n",
        "            if tamanho_arquivo <= tamanho_maximo:\n",
        "                break\n",
        "            qualidade -= 5\n",
        "        with open(f\"capas/{nome_arquivo}{extensao}\", \"wb\") as f:\n",
        "            f.write(buffer.getvalue())\n",
        "\n",
        "# Carregar a imagem do Parental Advisory\n",
        "parental_advisory = Image.open(\"/content/drive/MyDrive/Parental_Advisory_label.svg.png\").convert(\"RGBA\")\n",
        "\n",
        "# Função para adicionar o Parental Advisory à capa\n",
        "def adicionar_pal(imagem):\n",
        "    \"\"\"Adiciona o aviso Parental Advisory à sua capa. ⚠️\"\"\"\n",
        "    largura_pal = int(imagem.width * 0.2)\n",
        "    altura_pal = int(largura_pal * parental_advisory.height / parental_advisory.width)\n",
        "    posicao_x = int(imagem.width * 0.8)\n",
        "    posicao_y = int(imagem.height * 0.8)\n",
        "\n",
        "    pal_redimensionado = parental_advisory.resize((largura_pal, altura_pal))\n",
        "    imagem.paste(pal_redimensionado, (posicao_x, posicao_y), pal_redimensionado)\n",
        "    return imagem"
      ],
      "metadata": {
        "id": "ZZx1b__a2Pb3"
      },
      "execution_count": 12,
      "outputs": []
    },
    {
      "cell_type": "markdown",
      "source": [
        "Passo 4: Inspirando a Criação ✨"
      ],
      "metadata": {
        "id": "3KiePes_2TU9"
      }
    },
    {
      "cell_type": "code",
      "source": [
        "# Coletando informações para o prompt\n",
        "tema = input(\"🎨 Qual o tema da sua capa? \")\n",
        "estilo = input(\"🖌️ Estilo visual? (ex: abstrato, realista, futurista, etc.) \")\n",
        "cores = input(\"🌈 Cores que você curte? \")\n",
        "elementos = input(\"🎸 Elementos específicos? (ex: guitarra, flores, universo, etc.) \")\n",
        "\n",
        "# Criando o prompt\n",
        "prompt = f\"Uma capa de música com tema {tema}, em estilo {estilo}, com cores {cores}, incluindo {elementos}, com qualidade ótima.\"\n",
        "print(f\"\\n🌟 Járbio ART diz: \\n\\nMandando esse prompt para a IA: \\n\\n{prompt}\")\n",
        "\n",
        "# Gerando a imagem inicial\n",
        "imagem = gerar_imagem(prompt)\n",
        "print(\"\\n🖼️  Sua imagem está pronta! 🎉\")\n",
        "imagem.show()# Coletando informações para o prompt\n",
        "tema = input(\"🎨 Qual o tema da sua capa? \")\n",
        "estilo = input(\"🖌️ Estilo visual? (ex: abstrato, realista, futurista, etc.) \")\n",
        "cores = input(\"🌈 Cores que você curte? \")\n",
        "elementos = input(\"🎸 Elementos específicos? (ex: guitarra, flores, universo, etc.) \")\n",
        "\n",
        "# Criando o prompt\n",
        "prompt = f\"Uma capa de música com tema {tema}, em estilo {estilo}, com cores {cores}, incluindo {elementos}, com qualidade ótima.\"\n",
        "print(f\"\\n🌟 Járbio ART diz: \\n\\nMandando esse prompt para a IA: \\n\\n{prompt}\")\n",
        "\n",
        "# Gerando a imagem inicial\n",
        "imagem = gerar_imagem(prompt)\n",
        "print(\"\\n🖼️  Sua imagem está pronta! 🎉\")\n",
        "imagem.show()"
      ],
      "metadata": {
        "colab": {
          "base_uri": "https://localhost:8080/",
          "height": 356
        },
        "id": "V_hSJlZN2X9k",
        "outputId": "7ac4ea52-ba0b-4b6a-d276-4f632eca8174"
      },
      "execution_count": 24,
      "outputs": [
        {
          "output_type": "error",
          "ename": "KeyboardInterrupt",
          "evalue": "Interrupted by user",
          "traceback": [
            "\u001b[0;31m---------------------------------------------------------------------------\u001b[0m",
            "\u001b[0;31mKeyboardInterrupt\u001b[0m                         Traceback (most recent call last)",
            "\u001b[0;32m<ipython-input-24-32fe95079961>\u001b[0m in \u001b[0;36m<cell line: 2>\u001b[0;34m()\u001b[0m\n\u001b[1;32m      1\u001b[0m \u001b[0;31m# Coletando informações para o prompt\u001b[0m\u001b[0;34m\u001b[0m\u001b[0;34m\u001b[0m\u001b[0m\n\u001b[0;32m----> 2\u001b[0;31m \u001b[0mtema\u001b[0m \u001b[0;34m=\u001b[0m \u001b[0minput\u001b[0m\u001b[0;34m(\u001b[0m\u001b[0;34m\"🎨 Qual o tema da sua capa? \"\u001b[0m\u001b[0;34m)\u001b[0m\u001b[0;34m\u001b[0m\u001b[0;34m\u001b[0m\u001b[0m\n\u001b[0m\u001b[1;32m      3\u001b[0m \u001b[0mestilo\u001b[0m \u001b[0;34m=\u001b[0m \u001b[0minput\u001b[0m\u001b[0;34m(\u001b[0m\u001b[0;34m\"🖌️ Estilo visual? (ex: abstrato, realista, futurista, etc.) \"\u001b[0m\u001b[0;34m)\u001b[0m\u001b[0;34m\u001b[0m\u001b[0;34m\u001b[0m\u001b[0m\n\u001b[1;32m      4\u001b[0m \u001b[0mcores\u001b[0m \u001b[0;34m=\u001b[0m \u001b[0minput\u001b[0m\u001b[0;34m(\u001b[0m\u001b[0;34m\"🌈 Cores que você curte? \"\u001b[0m\u001b[0;34m)\u001b[0m\u001b[0;34m\u001b[0m\u001b[0;34m\u001b[0m\u001b[0m\n\u001b[1;32m      5\u001b[0m \u001b[0melementos\u001b[0m \u001b[0;34m=\u001b[0m \u001b[0minput\u001b[0m\u001b[0;34m(\u001b[0m\u001b[0;34m\"🎸 Elementos específicos? (ex: guitarra, flores, universo, etc.) \"\u001b[0m\u001b[0;34m)\u001b[0m\u001b[0;34m\u001b[0m\u001b[0;34m\u001b[0m\u001b[0m\n",
            "\u001b[0;32m/usr/local/lib/python3.10/dist-packages/ipykernel/kernelbase.py\u001b[0m in \u001b[0;36mraw_input\u001b[0;34m(self, prompt)\u001b[0m\n\u001b[1;32m    849\u001b[0m                 \u001b[0;34m\"raw_input was called, but this frontend does not support input requests.\"\u001b[0m\u001b[0;34m\u001b[0m\u001b[0;34m\u001b[0m\u001b[0m\n\u001b[1;32m    850\u001b[0m             )\n\u001b[0;32m--> 851\u001b[0;31m         return self._input_request(str(prompt),\n\u001b[0m\u001b[1;32m    852\u001b[0m             \u001b[0mself\u001b[0m\u001b[0;34m.\u001b[0m\u001b[0m_parent_ident\u001b[0m\u001b[0;34m,\u001b[0m\u001b[0;34m\u001b[0m\u001b[0;34m\u001b[0m\u001b[0m\n\u001b[1;32m    853\u001b[0m             \u001b[0mself\u001b[0m\u001b[0;34m.\u001b[0m\u001b[0m_parent_header\u001b[0m\u001b[0;34m,\u001b[0m\u001b[0;34m\u001b[0m\u001b[0;34m\u001b[0m\u001b[0m\n",
            "\u001b[0;32m/usr/local/lib/python3.10/dist-packages/ipykernel/kernelbase.py\u001b[0m in \u001b[0;36m_input_request\u001b[0;34m(self, prompt, ident, parent, password)\u001b[0m\n\u001b[1;32m    893\u001b[0m             \u001b[0;32mexcept\u001b[0m \u001b[0mKeyboardInterrupt\u001b[0m\u001b[0;34m:\u001b[0m\u001b[0;34m\u001b[0m\u001b[0;34m\u001b[0m\u001b[0m\n\u001b[1;32m    894\u001b[0m                 \u001b[0;31m# re-raise KeyboardInterrupt, to truncate traceback\u001b[0m\u001b[0;34m\u001b[0m\u001b[0;34m\u001b[0m\u001b[0m\n\u001b[0;32m--> 895\u001b[0;31m                 \u001b[0;32mraise\u001b[0m \u001b[0mKeyboardInterrupt\u001b[0m\u001b[0;34m(\u001b[0m\u001b[0;34m\"Interrupted by user\"\u001b[0m\u001b[0;34m)\u001b[0m \u001b[0;32mfrom\u001b[0m \u001b[0;32mNone\u001b[0m\u001b[0;34m\u001b[0m\u001b[0;34m\u001b[0m\u001b[0m\n\u001b[0m\u001b[1;32m    896\u001b[0m             \u001b[0;32mexcept\u001b[0m \u001b[0mException\u001b[0m \u001b[0;32mas\u001b[0m \u001b[0me\u001b[0m\u001b[0;34m:\u001b[0m\u001b[0;34m\u001b[0m\u001b[0;34m\u001b[0m\u001b[0m\n\u001b[1;32m    897\u001b[0m                 \u001b[0mself\u001b[0m\u001b[0;34m.\u001b[0m\u001b[0mlog\u001b[0m\u001b[0;34m.\u001b[0m\u001b[0mwarning\u001b[0m\u001b[0;34m(\u001b[0m\u001b[0;34m\"Invalid Message:\"\u001b[0m\u001b[0;34m,\u001b[0m \u001b[0mexc_info\u001b[0m\u001b[0;34m=\u001b[0m\u001b[0;32mTrue\u001b[0m\u001b[0;34m)\u001b[0m\u001b[0;34m\u001b[0m\u001b[0;34m\u001b[0m\u001b[0m\n",
            "\u001b[0;31mKeyboardInterrupt\u001b[0m: Interrupted by user"
          ]
        }
      ]
    },
    {
      "cell_type": "markdown",
      "source": [
        "Passo 5: Ajustes Finos com Járbio RAW 📸\n"
      ],
      "metadata": {
        "id": "52a6pLLm2bdQ"
      }
    },
    {
      "cell_type": "code",
      "source": [
        "# Função para ajustar o brilho\n",
        "def ajustar_brilho(imagem, percentual):\n",
        "    \"\"\"Járbio ART ajusta o brilho da sua imagem! ✨\"\"\"\n",
        "    imagem_np = np.array(imagem)\n",
        "    imagem_hsv = cv2.cvtColor(imagem_np, cv2.COLOR_RGB2HSV)\n",
        "\n",
        "    h, s, v = cv2.split(imagem_hsv)\n",
        "    v = np.clip(v * (1 + percentual / 100), 0, 255).astype(np.uint8)\n",
        "\n",
        "    imagem_hsv = cv2.merge((h, s, v))\n",
        "    imagem_ajustada = Image.fromarray(cv2.cvtColor(imagem_hsv, cv2.COLOR_HSV2RGB))\n",
        "    return imagem_ajustada\n",
        "\n",
        "# Função para ajustar o contraste\n",
        "def ajustar_contraste(imagem, percentual):\n",
        "    \"\"\"Járbio ART dando mais contraste à sua capa! 💥\"\"\"\n",
        "    imagem_np = np.array(imagem)\n",
        "    imagem_ajustada = cv2.addWeighted(imagem_np, 1 + percentual / 100, imagem_np, 0, 0)\n",
        "    return Image.fromarray(imagem_ajustada)\n",
        "\n",
        "# Função para aplicar filtro de nitidez\n",
        "def aplicar_nitidez(imagem):\n",
        "    \"\"\"Deixando tudo mais nítido! 👁️\"\"\"\n",
        "    imagem_np = np.array(imagem)\n",
        "    kernel = np.array([[-1,-1,-1], [-1,9,-1], [-1,-1,-1]])\n",
        "    imagem_nitida = cv2.filter2D(imagem_np, -1, kernel)\n",
        "    return Image.fromarray(imagem_nitida)\n",
        "\n",
        "# Plugin Járbio RAW\n",
        "while True:\n",
        "    print(\"\\n🎨 Plugin Járbio RAW! 🎨\")\n",
        "    print(\"1. Brilho\")\n",
        "    print(\"2. Contraste\")\n",
        "    print(\"3. Nitidez\")\n",
        "    print(\"4. Voltar\")\n",
        "\n",
        "    opcao = input(\"Escolha uma opção: \")\n",
        "\n",
        "    if opcao == \"1\":\n",
        "        valor = int(input(\"Ajuste o brilho (-100 a 100): \"))\n",
        "        imagem = ajustar_brilho(imagem, valor)\n",
        "        imagem.show()\n",
        "    elif opcao == \"2\":\n",
        "        valor = int(input(\"Ajuste o contraste (-100 a 100): \"))\n",
        "        imagem = ajustar_contraste(imagem, valor)\n",
        "        imagem.show()\n",
        "    elif opcao == \"3\":\n",
        "        imagem = aplicar_nitidez(imagem)\n",
        "        imagem.show()\n",
        "    elif opcao == \"4\":\n",
        "        break\n",
        "    else:\n",
        "        print(\"Opção inválida! Járbio ART não entendeu. 🤔\")"
      ],
      "metadata": {
        "id": "fChIjsSB2fSI"
      },
      "execution_count": null,
      "outputs": []
    },
    {
      "cell_type": "markdown",
      "source": [
        "Passo 6: Paleta de Cores Inteligente 🌈\n"
      ],
      "metadata": {
        "id": "5ctylM-I2jXl"
      }
    },
    {
      "cell_type": "code",
      "source": [
        "# Extraindo a paleta de cores da imagem\n",
        "color_thief = ColorThief(np.array(imagem))\n",
        "paleta_cores = color_thief.get_palette(color_count=5)\n",
        "\n",
        "# Exibindo a paleta de cores\n",
        "print(\"\\n🎨 Paleta de Cores Inteligente! 🎨\")\n",
        "print(f\"Cores da sua capa: {paleta_cores}\")\n",
        "\n",
        "# Implementar filtros que realçam as cores da paleta\n",
        "# (ex: aumentar saturação, criar variações, etc.)"
      ],
      "metadata": {
        "id": "pQc8shMj2oSB"
      },
      "execution_count": null,
      "outputs": []
    },
    {
      "cell_type": "markdown",
      "source": [
        "Passo 7: Estilização Artística 🖌️\n"
      ],
      "metadata": {
        "id": "5161GDYz2rUG"
      }
    },
    {
      "cell_type": "code",
      "source": [
        "# Implementar a escolha de diferentes modelos de IA para estilização\n",
        "# (ex: \"Berthubert/stable-diffusion-picasso\", etc.)\n",
        "\n",
        "# Implementar filtros que simulam técnicas de pintura\n",
        "# (ex: pinceladas, aquarela, óleo sobre tela, etc.)"
      ],
      "metadata": {
        "id": "n-ottrkX2uRS"
      },
      "execution_count": 21,
      "outputs": []
    },
    {
      "cell_type": "markdown",
      "source": [
        "Passo 8: Filtro \"União de Cores e Brilho\"\n"
      ],
      "metadata": {
        "id": "m8Kn6-8f2zZi"
      }
    },
    {
      "cell_type": "code",
      "source": [
        "# Implementar filtro para suavizar as transições entre as cores\n",
        "# (ex: Gaussian Blur, Median Blur, etc.)\n",
        "\n",
        "# Permitir ajuste de brilho e contraste para realçar detalhes"
      ],
      "metadata": {
        "id": "WVWYqWzK224Q"
      },
      "execution_count": 22,
      "outputs": []
    },
    {
      "cell_type": "markdown",
      "source": [
        "Passo 9: Adicionando o Toque Final ⚠️\n"
      ],
      "metadata": {
        "id": "bP8IpdxC28MY"
      }
    },
    {
      "cell_type": "code",
      "source": [
        "# Opção para adicionar o Parental Advisory\n",
        "usar_pal = input(\"\\nSua capa precisa de um aviso Parental Advisory? (s/n): \").lower()\n",
        "if usar_pal == 's':\n",
        "    imagem = adicionar_pal(imagem)\n",
        "    imagem.show()\n",
        "\n",
        "# Salvando a obra-prima\n",
        "salvar_capa(imagem)\n",
        "print(f\"\\n🎉 Sua capa foi salva na pasta 'capas'! Arrasou! ✨\")"
      ],
      "metadata": {
        "id": "8-uqrmWv2_D4"
      },
      "execution_count": null,
      "outputs": []
    }
  ]
}